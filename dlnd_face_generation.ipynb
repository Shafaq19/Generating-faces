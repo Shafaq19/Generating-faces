{
 "cells": [
  {
   "cell_type": "markdown",
   "metadata": {},
   "source": [
    "# Face Generation\n",
    "\n",
    "In this project, you'll define and train a DCGAN on a dataset of faces. Your goal is to get a generator network to generate *new* images of faces that look as realistic as possible!\n",
    "\n",
    "The project will be broken down into a series of tasks from **loading in data to defining and training adversarial networks**. At the end of the notebook, you'll be able to visualize the results of your trained Generator to see how it performs; your generated samples should look like fairly realistic faces with small amounts of noise.\n",
    "\n",
    "### Get the Data\n",
    "\n",
    "You'll be using the [CelebFaces Attributes Dataset (CelebA)](http://mmlab.ie.cuhk.edu.hk/projects/CelebA.html) to train your adversarial networks.\n",
    "\n",
    "This dataset is more complex than the number datasets (like MNIST or SVHN) you've been working with, and so, you should prepare to define deeper networks and train them for a longer time to get good results. It is suggested that you utilize a GPU for training.\n",
    "\n",
    "### Pre-processed Data\n",
    "\n",
    "Since the project's main focus is on building the GANs, we've done *some* of the pre-processing for you. Each of the CelebA images has been cropped to remove parts of the image that don't include a face, then resized down to 64x64x3 NumPy images. Some sample data is show below.\n",
    "\n",
    "<img src='assets/processed_face_data.png' width=60% />\n",
    "\n",
    "> If you are working locally, you can download this data [by clicking here](https://s3.amazonaws.com/video.udacity-data.com/topher/2018/November/5be7eb6f_processed-celeba-small/processed-celeba-small.zip)\n",
    "\n",
    "This is a zip file that you'll need to extract in the home directory of this notebook for further loading and processing. After extracting the data, you should be left with a directory of data `processed_celeba_small/`"
   ]
  },
  {
   "cell_type": "code",
   "execution_count": null,
   "metadata": {},
   "outputs": [
    {
     "name": "stdout",
     "output_type": "stream",
     "text": [
      "Archive:  processed_celeba_small.zip\r\n",
      "replace processed_celeba_small/.DS_Store? [y]es, [n]o, [A]ll, [N]one, [r]ename: "
     ]
    }
   ],
   "source": [
    "# can comment out after executing\n",
    "!unzip processed_celeba_small.zip"
   ]
  },
  {
   "cell_type": "code",
   "execution_count": 2,
   "metadata": {},
   "outputs": [],
   "source": [
    "data_dir = 'processed_celeba_small/'\n",
    "\n",
    "\"\"\"\n",
    "DON'T MODIFY ANYTHING IN THIS CELL\n",
    "\"\"\"\n",
    "import pickle as pkl\n",
    "import matplotlib.pyplot as plt\n",
    "import numpy as np\n",
    "import problem_unittests as tests\n",
    "#import helper\n",
    "\n",
    "%matplotlib inline\n",
    "import os\n",
    "import tarfile\n",
    "\n",
    "def recursive_files(dir_name='.', ignore=None):\n",
    "    for dir_name,subdirs,files in os.walk(dir_name):\n",
    "        if ignore and os.path.basename(dir_name) in ignore:\n",
    "            continue\n",
    "\n",
    "        for file_name in files:\n",
    "            if ignore and file_name in ignore:\n",
    "                continue\n",
    "\n",
    "            yield os.path.join(dir_name, file_name)\n",
    "\n",
    "def make_tar_file(dir_name='.', target_file_name='workspace_archive.zip', ignore=None):\n",
    "    tar = tarfile.open(target_file_name, 'w')\n",
    "\n",
    "    for file_name in recursive_files(dir_name, ignore):\n",
    "        tar.add(file_name)\n",
    "\n",
    "    tar.close()\n",
    "\n",
    "\n",
    "dir_name = '.'\n",
    "target_file_name = 'workspace_archive.zip'\n",
    "# List of files/directories to ignore\n",
    "ignore = {'.ipynb_checkpoints', '__pycache__','.pt', target_file_name}\n",
    "\n",
    "make_tar_file(dir_name, target_file_name, ignore)"
   ]
  },
  {
   "cell_type": "markdown",
   "metadata": {},
   "source": [
    "## Visualize the CelebA Data\n",
    "\n",
    "The [CelebA](http://mmlab.ie.cuhk.edu.hk/projects/CelebA.html) dataset contains over 200,000 celebrity images with annotations. Since you're going to be generating faces, you won't need the annotations, you'll only need the images. Note that these are color images with [3 color channels (RGB)](https://en.wikipedia.org/wiki/Channel_(digital_image)#RGB_Images) each.\n",
    "\n",
    "### Pre-process and Load the Data\n",
    "\n",
    "Since the project's main focus is on building the GANs, we've done *some* of the pre-processing for you. Each of the CelebA images has been cropped to remove parts of the image that don't include a face, then resized down to 64x64x3 NumPy images. This *pre-processed* dataset is a smaller subset of the very large CelebA data.\n",
    "\n",
    "> There are a few other steps that you'll need to **transform** this data and create a **DataLoader**.\n",
    "\n",
    "#### Exercise: Complete the following `get_dataloader` function, such that it satisfies these requirements:\n",
    "\n",
    "* Your images should be square, Tensor images of size `image_size x image_size` in the x and y dimension.\n",
    "* Your function should return a DataLoader that shuffles and batches these Tensor images.\n",
    "\n",
    "#### ImageFolder\n",
    "\n",
    "To create a dataset given a directory of images, it's recommended that you use PyTorch's [ImageFolder](https://pytorch.org/docs/stable/torchvision/datasets.html#imagefolder) wrapper, with a root directory `processed_celeba_small/` and data transformation passed in."
   ]
  },
  {
   "cell_type": "code",
   "execution_count": 2,
   "metadata": {},
   "outputs": [],
   "source": [
    "# necessary imports\n",
    "import torch\n",
    "from torchvision import datasets\n",
    "import os\n",
    "from torchvision import transforms\n",
    "\n",
    "from torch.utils.data import DataLoader\n",
    "import os\n",
    "import tarfile\n",
    "\n",
    "def recursive_files(dir_name='.', ignore=None):\n",
    "    for dir_name,subdirs,files in os.walk(dir_name):\n",
    "        if ignore and os.path.basename(dir_name) in ignore:\n",
    "            continue\n",
    "\n",
    "        for file_name in files:\n",
    "            if ignore and file_name in ignore:\n",
    "                continue\n",
    "\n",
    "            yield os.path.join(dir_name, file_name)\n",
    "\n",
    "def make_tar_file(dir_name='.', target_file_name='workspace_archive.tar', ignore=None):\n",
    "    tar = tarfile.open(target_file_name, 'w')\n",
    "\n",
    "    for file_name in recursive_files(dir_name, ignore):\n",
    "        tar.add(file_name)\n",
    "\n",
    "    tar.close()\n",
    "\n",
    "\n",
    "dir_name = '.'\n",
    "target_file_name = 'workspace_archive.tar'\n",
    "# List of files/directories to ignore\n",
    "ignore = {'.ipynb_checkpoints', '__pycache__', target_file_name}\n",
    "\n",
    "make_tar_file(dir_name, target_file_name, ignore)"
   ]
  },
  {
   "cell_type": "code",
   "execution_count": 3,
   "metadata": {},
   "outputs": [],
   "source": [
    "def get_dataloader(batch_size, image_size, data_dir='processed_celeba_small/'):\n",
    "    \"\"\"\n",
    "    Batch the neural network data using DataLoader\n",
    "    :param batch_size: The size of each batch; the number of images in a batch\n",
    "    :param img_size: The square size of the image data (x, y)\n",
    "    :param data_dir: Directory where image data is located\n",
    "    :return: DataLoader with batched data\n",
    "    \"\"\"\n",
    "    transform = transforms.Compose([transforms.Resize(image_size), # resize to 128x128\n",
    "                                    transforms.ToTensor()])\n",
    "       # get training and test directories\n",
    "    image_path = './' + data_dir\n",
    "    train_path = os.path.join(image_path, \"celeba\")\n",
    "    train_dataset = datasets.ImageFolder(train_path, transform)\n",
    "    train_loader = DataLoader(dataset=train_dataset, batch_size=batch_size, shuffle=True, num_workers=0)\n",
    "    \n",
    "    return train_loader\n"
   ]
  },
  {
   "cell_type": "markdown",
   "metadata": {},
   "source": [
    "## Create a DataLoader\n",
    "\n",
    "#### Exercise: Create a DataLoader `celeba_train_loader` with appropriate hyperparameters.\n",
    "\n",
    "Call the above function and create a dataloader to view images. \n",
    "* You can decide on any reasonable `batch_size` parameter\n",
    "* Your `image_size` **must be** `32`. Resizing the data to a smaller size will make for faster training, while still creating convincing images of faces!"
   ]
  },
  {
   "cell_type": "code",
   "execution_count": 4,
   "metadata": {},
   "outputs": [],
   "source": [
    "# Define function hyperparameters\n",
    "batch_size = 128\n",
    "img_size = 32\n",
    "\n",
    "\"\"\"\n",
    "DON'T MODIFY ANYTHING IN THIS CELL THAT IS BELOW THIS LINE\n",
    "\"\"\"\n",
    "# Call your function and get a dataloader\n",
    "celeba_train_loader = get_dataloader(batch_size, img_size)\n"
   ]
  },
  {
   "cell_type": "markdown",
   "metadata": {},
   "source": [
    "Next, you can view some images! You should seen square images of somewhat-centered faces.\n",
    "\n",
    "Note: You'll need to convert the Tensor images into a NumPy type and transpose the dimensions to correctly display an image, suggested `imshow` code is below, but it may not be perfect."
   ]
  },
  {
   "cell_type": "code",
   "execution_count": 5,
   "metadata": {},
   "outputs": [
    {
     "data": {
      "image/png": "[encoded data removed]",
      "text/plain": [
       "<matplotlib.figure.Figure at 0x7f3fa0f9fd68>"
      ]
     },
     "metadata": {},
     "output_type": "display_data"
    }
   ],
   "source": [
    "# helper display function\n",
    "def imshow(img):\n",
    "    npimg = img.numpy()\n",
    "    plt.imshow(np.transpose(npimg, (1, 2, 0)))\n",
    "\n",
    "\"\"\"\n",
    "DON'T MODIFY ANYTHING IN THIS CELL THAT IS BELOW THIS LINE\n",
    "\"\"\"\n",
    "# obtain one batch of training images\n",
    "dataiter = iter(celeba_train_loader)\n",
    "images, _ = dataiter.next() # _ for no labels\n",
    "\n",
    "# plot the images in the batch, along with the corresponding labels\n",
    "fig = plt.figure(figsize=(20, 4))\n",
    "plot_size=20\n",
    "for idx in np.arange(plot_size):\n",
    "    ax = fig.add_subplot(2, plot_size/2, idx+1, xticks=[], yticks=[])\n",
    "    imshow(images[idx])"
   ]
  },
  {
   "cell_type": "markdown",
   "metadata": {},
   "source": [
    "#### Exercise: Pre-process your image data and scale it to a pixel range of -1 to 1\n",
    "\n",
    "You need to do a bit of pre-processing; you know that the output of a `tanh` activated generator will contain pixel values in a range from -1 to 1, and so, we need to rescale our training images to a range of -1 to 1. (Right now, they are in a range from 0-1.)"
   ]
  },
  {
   "cell_type": "code",
   "execution_count": 6,
   "metadata": {},
   "outputs": [],
   "source": [
    "# TODO: Complete the scale function\n",
    "def scale(x, feature_range=(-1, 1)):\n",
    "    ''' Scale takes in an image x and returns that image, scaled\n",
    "       with a feature_range of pixel values from -1 to 1. \n",
    "       This function assumes that the input x is already scaled from 0-1.'''\n",
    "    # assume x is scaled to (0, 1)\n",
    "    # scale to feature_range and return scaled x\n",
    "    min, max = feature_range\n",
    "    x = x * (max - min) + min\n",
    "    return x\n"
   ]
  },
  {
   "cell_type": "code",
   "execution_count": 7,
   "metadata": {},
   "outputs": [
    {
     "name": "stdout",
     "output_type": "stream",
     "text": [
      "Min:  tensor(-0.9922)\n",
      "Max:  tensor(0.9451)\n"
     ]
    }
   ],
   "source": [
    "\"\"\"\n",
    "DON'T MODIFY ANYTHING IN THIS CELL THAT IS BELOW THIS LINE\n",
    "\"\"\"\n",
    "# check scaled range\n",
    "# should be close to -1 to 1\n",
    "img = images[0]\n",
    "scaled_img = scale(img)\n",
    "\n",
    "print('Min: ', scaled_img.min())\n",
    "print('Max: ', scaled_img.max())"
   ]
  },
  {
   "cell_type": "markdown",
   "metadata": {},
   "source": [
    "---\n",
    "# Define the Model\n",
    "\n",
    "A GAN is comprised of two adversarial networks, a discriminator and a generator.\n",
    "\n",
    "## Discriminator\n",
    "\n",
    "Your first task will be to define the discriminator. This is a convolutional classifier like you've built before, only without any maxpooling layers. To deal with this complex data, it's suggested you use a deep network with **normalization**. You are also allowed to create any helper functions that may be useful.\n",
    "\n",
    "#### Exercise: Complete the Discriminator class\n",
    "* The inputs to the discriminator are 32x32x3 tensor images\n",
    "* The output should be a single value that will indicate whether a given image is real or fake\n"
   ]
  },
  {
   "cell_type": "code",
   "execution_count": 8,
   "metadata": {},
   "outputs": [],
   "source": [
    "import torch.nn as nn\n",
    "import torch.nn.functional as F"
   ]
  },
  {
   "cell_type": "code",
   "execution_count": 9,
   "metadata": {},
   "outputs": [
    {
     "name": "stdout",
     "output_type": "stream",
     "text": [
      "Tests Passed\n"
     ]
    }
   ],
   "source": [
    "def conv(in_channels,out_channels,kernel,stride=2,padding=1,batch_norm=True, leakyrelu=False):\n",
    "        layers=[]\n",
    "        layers.append(nn.Conv2d(in_channels,out_channels,kernel,stride=stride,padding=padding))\n",
    "        if batch_norm:\n",
    "            layers.append(nn.BatchNorm2d(out_channels))\n",
    "        if leakyrelu:\n",
    "            layers.append(nn.LeakyReLU(negative_slope= 0.2))\n",
    "        return nn.Sequential(*layers)\n",
    "class Discriminator(nn.Module):\n",
    "\n",
    "    def __init__(self, conv_dim):\n",
    "        \"\"\"\n",
    "        Initialize the Discriminator Module\n",
    "        :param conv_dim: The depth of the first convolutional layer\n",
    "        \"\"\"\n",
    "        super(Discriminator, self).__init__()\n",
    "\n",
    "        # complete init function\n",
    "        self.conv_dim=conv_dim\n",
    "        self.conv_1= conv(3,conv_dim,4,batch_norm=False,leakyrelu=True)\n",
    "        self.conv_2= conv(conv_dim,conv_dim*2,4,leakyrelu=True)\n",
    "        self.conv_3= conv(conv_dim*2,conv_dim*4,4,leakyrelu=True)\n",
    "        self.conv_4= conv(conv_dim*4,conv_dim*8,4,leakyrelu=True)\n",
    "        self.fc=nn.Linear(conv_dim*8*2*2,1)\n",
    "    def forward(self, x):\n",
    "        \"\"\"\n",
    "        Forward propagation of the neural network\n",
    "        :param x: The input to the neural network     \n",
    "        :return: Discriminator logits; the output of the neural network\n",
    "        \"\"\"\n",
    "        # define feedforward behavior\n",
    "        x=self.conv_1(x)\n",
    "        x=self.conv_2(x)\n",
    "        x=self.conv_3(x)\n",
    "        x=self.conv_4(x)\n",
    "        x=x.view(-1,self.conv_dim*8*2*2)\n",
    "        x=self.fc(x)\n",
    "        return x\n",
    "\n",
    "\n",
    "\"\"\"\n",
    "DON'T MODIFY ANYTHING IN THIS CELL THAT IS BELOW THIS LINE\n",
    "\"\"\"\n",
    "tests.test_discriminator(Discriminator)"
   ]
  },
  {
   "cell_type": "markdown",
   "metadata": {},
   "source": [
    "## Generator\n",
    "\n",
    "The generator should upsample an input and generate a *new* image of the same size as our training data `32x32x3`. This should be mostly transpose convolutional layers with normalization applied to the outputs.\n",
    "\n",
    "#### Exercise: Complete the Generator class\n",
    "* The inputs to the generator are vectors of some length `z_size`\n",
    "* The output should be a image of shape `32x32x3`"
   ]
  },
  {
   "cell_type": "code",
   "execution_count": 10,
   "metadata": {},
   "outputs": [
    {
     "name": "stdout",
     "output_type": "stream",
     "text": [
      "Tests Passed\n"
     ]
    }
   ],
   "source": [
    "#helper deconv function\n",
    "def deconv(in_channels, out_channels, kernel_size, stride=2, padding=1, batch_norm=True,relu=True):\n",
    "    \"\"\"Creates a transpose convolutional layer, with optional batch normalization.\n",
    "    \"\"\"\n",
    "    layers = []\n",
    "    # append transpose conv layer\n",
    "    layers.append(nn.ConvTranspose2d(in_channels, out_channels, kernel_size, stride, padding, bias=False))\n",
    "    # optional batch norm layer\n",
    "    if batch_norm:\n",
    "        layers.append(nn.BatchNorm2d(out_channels))\n",
    "    if relu:\n",
    "        layers.append(nn.ReLU())\n",
    "    return nn.Sequential(*layers)\n",
    "class Generator(nn.Module):\n",
    "    \n",
    "    def __init__(self, z_size, conv_dim):\n",
    "        \"\"\"\n",
    "        Initialize the Generator Module\n",
    "        :param z_size: The length of the input latent vector, z\n",
    "        :param conv_dim: The depth of the inputs to the *last* transpose convolutional layer\n",
    "        \"\"\"\n",
    "        super(Generator, self).__init__()\n",
    "        \n",
    "        # complete init function\n",
    "        self.conv_dim = conv_dim\n",
    "        \n",
    "        # first, fully-connected layer\n",
    "        self.fc = nn.Linear(z_size, conv_dim*8*2*2)\n",
    "        self.t_conv1 = deconv(conv_dim*8, conv_dim*4, 4)\n",
    "        self.t_conv2 = deconv(conv_dim*4, conv_dim*2, 4)\n",
    "        self.t_conv3 = deconv(conv_dim*2, conv_dim, 4)\n",
    "        self.t_conv4= deconv(conv_dim, 3, 4, batch_norm=False,relu=False)\n",
    "\n",
    "    def forward(self, x):\n",
    "        \"\"\"\n",
    "        Forward propagation of the neural network\n",
    "        :param x: The input to the neural network     \n",
    "        :return: A 32x32x3 Tensor image as output\n",
    "        \"\"\"\n",
    "        out = self.fc(x)\n",
    "        out = out.view(-1, self.conv_dim*8, 2, 2)\n",
    "        out = self.t_conv1(out)\n",
    "        out = self.t_conv2(out)\n",
    "        # last layer + tanh activation\n",
    "        out = self.t_conv3(out)\n",
    "        out = self.t_conv4(out)\n",
    "        \n",
    "        out =  torch.tanh(out)\n",
    "        return out\n",
    "\n",
    "\n",
    "\"\"\"\n",
    "DON'T MODIFY ANYTHING IN THIS CELL THAT IS BELOW THIS LINE\n",
    "\"\"\"\n",
    "tests.test_generator(Generator)"
   ]
  },
  {
   "cell_type": "markdown",
   "metadata": {},
   "source": [
    "## Initialize the weights of your networks\n",
    "\n",
    "To help your models converge, you should initialize the weights of the convolutional and linear layers in your model. From reading the [original DCGAN paper](https://arxiv.org/pdf/1511.06434.pdf), they say:\n",
    "> All weights were initialized from a zero-centered Normal distribution with standard deviation 0.02.\n",
    "\n",
    "So, your next task will be to define a weight initialization function that does just this!\n",
    "\n",
    "You can refer back to the lesson on weight initialization or even consult existing model code, such as that from [the `networks.py` file in CycleGAN Github repository](https://github.com/junyanz/pytorch-CycleGAN-and-pix2pix/blob/master/models/networks.py) to help you complete this function.\n",
    "\n",
    "#### Exercise: Complete the weight initialization function\n",
    "\n",
    "* This should initialize only **convolutional** and **linear** layers\n",
    "* Initialize the weights to a normal distribution, centered around 0, with a standard deviation of 0.02.\n",
    "* The bias terms, if they exist, may be left alone or set to 0."
   ]
  },
  {
   "cell_type": "code",
   "execution_count": 11,
   "metadata": {},
   "outputs": [],
   "source": [
    "def weights_init_normal(m):\n",
    "    \"\"\"\n",
    "    Applies initial weights to certain layers in a model .\n",
    "    The weights are taken from a normal distribution \n",
    "    with mean = 0, std dev = 0.02.\n",
    "    :param m: A module or layer in a network    \n",
    "    \"\"\"\n",
    "    # classname will be something like:\n",
    "    # `Conv`, `BatchNorm2d`, `Linear`, etc.\n",
    "    classname = m.__class__.__name__\n",
    "    \n",
    "    # TODO: Apply initial weights to convolutional and linear layers\n",
    "    if hasattr(m, 'weight') and(classname.find('Linear') != -1 or classname.find('Conv') != -1) :\n",
    "        # apply a centered, norma;l distribution to the weights\n",
    "        m.weight.data.normal_(0, 0.02)\n",
    "        if hasattr(m, 'bias') and m.bias is not None:\n",
    "            m.bias.data.fill_(0)\n",
    "    \n",
    "    "
   ]
  },
  {
   "cell_type": "markdown",
   "metadata": {
    "collapsed": true
   },
   "source": [
    "## Build complete network\n",
    "\n",
    "Define your models' hyperparameters and instantiate the discriminator and generator from the classes defined above. Make sure you've passed in the correct input arguments."
   ]
  },
  {
   "cell_type": "code",
   "execution_count": 12,
   "metadata": {},
   "outputs": [],
   "source": [
    "\"\"\"\n",
    "DON'T MODIFY ANYTHING IN THIS CELL THAT IS BELOW THIS LINE\n",
    "\"\"\"\n",
    "def build_network(d_conv_dim, g_conv_dim, z_size):\n",
    "    # define discriminator and generator\n",
    "    D = Discriminator(d_conv_dim)\n",
    "    G = Generator(z_size=z_size, conv_dim=g_conv_dim)\n",
    "\n",
    "    # initialize model weights\n",
    "    D.apply(weights_init_normal)\n",
    "    G.apply(weights_init_normal)\n",
    "\n",
    "    print(D)\n",
    "    print()\n",
    "    print(G)\n",
    "    \n",
    "    return D, G\n"
   ]
  },
  {
   "cell_type": "markdown",
   "metadata": {},
   "source": [
    "#### Exercise: Define model hyperparameters"
   ]
  },
  {
   "cell_type": "code",
   "execution_count": 13,
   "metadata": {},
   "outputs": [
    {
     "name": "stdout",
     "output_type": "stream",
     "text": [
      "Discriminator(\n",
      "  (conv_1): Sequential(\n",
      "    (0): Conv2d(3, 64, kernel_size=(4, 4), stride=(2, 2), padding=(1, 1))\n",
      "    (1): LeakyReLU(negative_slope=0.2)\n",
      "  )\n",
      "  (conv_2): Sequential(\n",
      "    (0): Conv2d(64, 128, kernel_size=(4, 4), stride=(2, 2), padding=(1, 1))\n",
      "    (1): BatchNorm2d(128, eps=1e-05, momentum=0.1, affine=True, track_running_stats=True)\n",
      "    (2): LeakyReLU(negative_slope=0.2)\n",
      "  )\n",
      "  (conv_3): Sequential(\n",
      "    (0): Conv2d(128, 256, kernel_size=(4, 4), stride=(2, 2), padding=(1, 1))\n",
      "    (1): BatchNorm2d(256, eps=1e-05, momentum=0.1, affine=True, track_running_stats=True)\n",
      "    (2): LeakyReLU(negative_slope=0.2)\n",
      "  )\n",
      "  (conv_4): Sequential(\n",
      "    (0): Conv2d(256, 512, kernel_size=(4, 4), stride=(2, 2), padding=(1, 1))\n",
      "    (1): BatchNorm2d(512, eps=1e-05, momentum=0.1, affine=True, track_running_stats=True)\n",
      "    (2): LeakyReLU(negative_slope=0.2)\n",
      "  )\n",
      "  (fc): Linear(in_features=2048, out_features=1, bias=True)\n",
      ")\n",
      "\n",
      "Generator(\n",
      "  (fc): Linear(in_features=100, out_features=2048, bias=True)\n",
      "  (t_conv1): Sequential(\n",
      "    (0): ConvTranspose2d(512, 256, kernel_size=(4, 4), stride=(2, 2), padding=(1, 1), bias=False)\n",
      "    (1): BatchNorm2d(256, eps=1e-05, momentum=0.1, affine=True, track_running_stats=True)\n",
      "    (2): ReLU()\n",
      "  )\n",
      "  (t_conv2): Sequential(\n",
      "    (0): ConvTranspose2d(256, 128, kernel_size=(4, 4), stride=(2, 2), padding=(1, 1), bias=False)\n",
      "    (1): BatchNorm2d(128, eps=1e-05, momentum=0.1, affine=True, track_running_stats=True)\n",
      "    (2): ReLU()\n",
      "  )\n",
      "  (t_conv3): Sequential(\n",
      "    (0): ConvTranspose2d(128, 64, kernel_size=(4, 4), stride=(2, 2), padding=(1, 1), bias=False)\n",
      "    (1): BatchNorm2d(64, eps=1e-05, momentum=0.1, affine=True, track_running_stats=True)\n",
      "    (2): ReLU()\n",
      "  )\n",
      "  (t_conv4): Sequential(\n",
      "    (0): ConvTranspose2d(64, 3, kernel_size=(4, 4), stride=(2, 2), padding=(1, 1), bias=False)\n",
      "  )\n",
      ")\n"
     ]
    }
   ],
   "source": [
    "# Define model hyperparams\n",
    "d_conv_dim = 64\n",
    "g_conv_dim = 64\n",
    "z_size = 100\n",
    "\n",
    "\"\"\"\n",
    "DON'T MODIFY ANYTHING IN THIS CELL THAT IS BELOW THIS LINE\n",
    "\"\"\"\n",
    "D, G = build_network(d_conv_dim, g_conv_dim, z_size)"
   ]
  },
  {
   "cell_type": "markdown",
   "metadata": {},
   "source": [
    "### Training on GPU\n",
    "\n",
    "Check if you can train on GPU. Here, we'll set this as a boolean variable `train_on_gpu`. Later, you'll be responsible for making sure that \n",
    ">* Models,\n",
    "* Model inputs, and\n",
    "* Loss function arguments\n",
    "\n",
    "Are moved to GPU, where appropriate."
   ]
  },
  {
   "cell_type": "code",
   "execution_count": 6,
   "metadata": {},
   "outputs": [
    {
     "name": "stdout",
     "output_type": "stream",
     "text": [
      "No GPU found. Please use a GPU to train your neural network.\n"
     ]
    }
   ],
   "source": [
    "\"\"\"\n",
    "DON'T MODIFY ANYTHING IN THIS CELL\n",
    "\"\"\"\n",
    "import torch\n",
    "\n",
    "# Check for a GPU\n",
    "train_on_gpu = torch.cuda.is_available()\n",
    "if not train_on_gpu:\n",
    "    print('No GPU found. Please use a GPU to train your neural network.')\n",
    "else:\n",
    "    print('Training on GPU!')"
   ]
  },
  {
   "cell_type": "markdown",
   "metadata": {},
   "source": [
    "---\n",
    "## Discriminator and Generator Losses\n",
    "\n",
    "Now we need to calculate the losses for both types of adversarial networks.\n",
    "\n",
    "### Discriminator Losses\n",
    "\n",
    "> * For the discriminator, the total loss is the sum of the losses for real and fake images, `d_loss = d_real_loss + d_fake_loss`. \n",
    "* Remember that we want the discriminator to output 1 for real images and 0 for fake images, so we need to set up the losses to reflect that.\n",
    "\n",
    "\n",
    "### Generator Loss\n",
    "\n",
    "The generator loss will look similar only with flipped labels. The generator's goal is to get the discriminator to *think* its generated images are *real*.\n",
    "\n",
    "#### Exercise: Complete real and fake loss functions\n",
    "\n",
    "**You may choose to use either cross entropy or a least squares error loss to complete the following `real_loss` and `fake_loss` functions.**"
   ]
  },
  {
   "cell_type": "code",
   "execution_count": 15,
   "metadata": {},
   "outputs": [],
   "source": [
    "def real_loss(D_out,smooth=False):\n",
    "    '''Calculates how close discriminator outputs are to being real.\n",
    "       param, D_out: discriminator logits\n",
    "       return: real loss'''\n",
    "    batch_size = D_out.size(0)\n",
    "    # label smoothing\n",
    "    if smooth:\n",
    "        # smooth, real labels = 0.9\n",
    "        labels = torch.ones(batch_size)*0.9\n",
    "    else:\n",
    "        labels = torch.ones(batch_size) # real labels = 1\n",
    "    # move labels to GPU if available     \n",
    "    if train_on_gpu:\n",
    "        labels = labels.cuda()\n",
    "    # binary cross entropy with logits loss\n",
    "    criterion = nn.BCEWithLogitsLoss()\n",
    "    # calculate loss\n",
    "    loss = criterion(D_out.squeeze(), labels) \n",
    "    return loss\n",
    "\n",
    "def fake_loss(D_out):\n",
    "    '''Calculates how close discriminator outputs are to being fake.\n",
    "       param, D_out: discriminator logits\n",
    "       return: fake loss'''\n",
    "    batch_size = D_out.size(0)\n",
    "    labels = torch.zeros(batch_size) # fake labels = 0\n",
    "    if train_on_gpu:\n",
    "        labels = labels.cuda()\n",
    "    criterion = nn.BCEWithLogitsLoss()\n",
    "    # calculate loss\n",
    "    loss = criterion(D_out.squeeze(), labels)\n",
    "    return loss"
   ]
  },
  {
   "cell_type": "markdown",
   "metadata": {},
   "source": [
    "## Optimizers\n",
    "\n",
    "#### Exercise: Define optimizers for your Discriminator (D) and Generator (G)\n",
    "\n",
    "Define optimizers for your models with appropriate hyperparameters."
   ]
  },
  {
   "cell_type": "code",
   "execution_count": 16,
   "metadata": {},
   "outputs": [],
   "source": [
    "import torch.optim as optim\n",
    "lr = 0.0002\n",
    "beta1=0.5\n",
    "beta2=0.999 # default value\n",
    "\n",
    "# Create optimizers for the discriminator and generator\n",
    "d_optimizer = optim.Adam(D.parameters(), lr, [beta1, beta2])\n",
    "g_optimizer = optim.Adam(G.parameters(), lr, [beta1, beta2])"
   ]
  },
  {
   "cell_type": "markdown",
   "metadata": {},
   "source": [
    "---\n",
    "## Training\n",
    "\n",
    "Training will involve alternating between training the discriminator and the generator. You'll use your functions `real_loss` and `fake_loss` to help you calculate the discriminator losses.\n",
    "\n",
    "* You should train the discriminator by alternating on real and fake images\n",
    "* Then the generator, which tries to trick the discriminator and should have an opposing loss function\n",
    "\n",
    "\n",
    "#### Saving Samples\n",
    "\n",
    "You've been given some code to print out some loss statistics and save some generated \"fake\" samples."
   ]
  },
  {
   "cell_type": "markdown",
   "metadata": {},
   "source": [
    "#### Exercise: Complete the training function\n",
    "\n",
    "Keep in mind that, if you've moved your models to GPU, you'll also have to move any model inputs to GPU."
   ]
  },
  {
   "cell_type": "code",
   "execution_count": 17,
   "metadata": {},
   "outputs": [],
   "source": [
    "def train(D, G, n_epochs, print_every=50):\n",
    "    '''Trains adversarial networks for some number of epochs\n",
    "       param, D: the discriminator network\n",
    "       param, G: the generator network\n",
    "       param, n_epochs: number of epochs to train for\n",
    "       param, print_every: when to print and record the models' losses\n",
    "       return: D and G losses'''\n",
    "    \n",
    "    # move models to GPU\n",
    "    if train_on_gpu:\n",
    "        D.cuda()\n",
    "        G.cuda()\n",
    "\n",
    "    # keep track of loss and generated, \"fake\" samples\n",
    "    samples = []\n",
    "    losses = []\n",
    "\n",
    "    # Get some fixed data for sampling. These are images that are held\n",
    "    # constant throughout training, and allow us to inspect the model's performance\n",
    "    sample_size=16\n",
    "    fixed_z = np.random.uniform(-1, 1, size=(sample_size, z_size))\n",
    "    fixed_z = torch.from_numpy(fixed_z).float()\n",
    "    # move z to GPU if available\n",
    "    if train_on_gpu:\n",
    "        fixed_z = fixed_z.cuda()\n",
    "    # epoch training loop\n",
    "    for epoch in range(n_epochs):\n",
    "\n",
    "        # batch training loop\n",
    "        for batch_i, (real_images, _) in enumerate(celeba_train_loader):\n",
    "\n",
    "            batch_size = real_images.size(0)\n",
    "            real_images = scale(real_images)\n",
    "      \n",
    "            d_optimizer.zero_grad()\n",
    "            if train_on_gpu:\n",
    "                real_images = real_images.cuda()\n",
    "        \n",
    "            D_real = D(real_images)\n",
    "            z = np.random.uniform(-1, 1, size=(batch_size, z_size))\n",
    "            z = torch.from_numpy(z).float()\n",
    "            if train_on_gpu:\n",
    "                z = z.cuda()\n",
    "            fake_images = G(z)\n",
    "            D_fake = D(fake_images)\n",
    "            # 1. Train the discriminator on real and fake images\n",
    "            d_loss = real_loss(D_real)+fake_loss(D_fake)\n",
    "            d_loss.backward()\n",
    "            d_optimizer.step()\n",
    "            # 2. Train the generator with an adversarial loss\n",
    "            g_optimizer.zero_grad()\n",
    "            z = np.random.uniform(-1, 1, size=(batch_size, z_size))\n",
    "            z = torch.from_numpy(z).float()\n",
    "            if train_on_gpu:\n",
    "                z = z.cuda()\n",
    "            fake_images = G(z)\n",
    "\n",
    "            # Compute the discriminator losses on fake images \n",
    "            # using flipped labels!\n",
    "            D_fake = D(fake_images)\n",
    "            g_loss = real_loss(D_fake) # use real loss to flip labels\n",
    "\n",
    "            # perform backprop\n",
    "            g_loss.backward()\n",
    "            g_optimizer.step()          \n",
    "            \n",
    "            # ===============================================\n",
    "            #              END OF YOUR CODE\n",
    "            # ===============================================\n",
    "\n",
    "            # Print some loss stats\n",
    "            if batch_i % print_every == 0:\n",
    "                \n",
    "                # append discriminator loss and generator loss\n",
    "                losses.append((d_loss.item(), g_loss.item()))\n",
    "                # print discriminator and generator loss\n",
    "                print('Epoch [{:5d}/{:5d}] | d_loss: {:6.4f} | g_loss: {:6.4f}'.format(\n",
    "                        epoch+1, n_epochs, d_loss.item(), g_loss.item()))\n",
    "\n",
    "\n",
    "        ## AFTER EACH EPOCH##    \n",
    "        # this code assumes your generator is named G, feel free to change the name\n",
    "        # generate and save sample, fake images\n",
    "        G.eval() # for generating samples\n",
    "        samples_z = G(fixed_z)\n",
    "        samples.append(samples_z)\n",
    "        G.train() # back to training mode\n",
    "\n",
    "    # Save training generator samples\n",
    "    with open('train_samples.pkl', 'wb') as f:\n",
    "        pkl.dump(samples, f)\n",
    "    \n",
    "    # finally return losses\n",
    "    return losses"
   ]
  },
  {
   "cell_type": "markdown",
   "metadata": {},
   "source": [
    "Set your number of training epochs and train your GAN!"
   ]
  },
  {
   "cell_type": "code",
   "execution_count": null,
   "metadata": {},
   "outputs": [
    {
     "name": "stdout",
     "output_type": "stream",
     "text": [
      "Epoch [    1/   20] | d_loss: 1.5915 | g_loss: 0.9789\n",
      "Epoch [    1/   20] | d_loss: 0.0726 | g_loss: 7.0989\n",
      "Epoch [    1/   20] | d_loss: 0.2112 | g_loss: 3.6087\n",
      "Epoch [    1/   20] | d_loss: 0.5513 | g_loss: 4.2604\n",
      "Epoch [    1/   20] | d_loss: 0.6458 | g_loss: 1.6342\n",
      "Epoch [    1/   20] | d_loss: 0.6670 | g_loss: 3.2577\n",
      "Epoch [    1/   20] | d_loss: 0.6625 | g_loss: 2.4508\n",
      "Epoch [    1/   20] | d_loss: 1.2411 | g_loss: 3.4591\n",
      "Epoch [    1/   20] | d_loss: 0.5808 | g_loss: 2.7526\n",
      "Epoch [    2/   20] | d_loss: 1.0503 | g_loss: 2.3984\n",
      "Epoch [    2/   20] | d_loss: 0.8504 | g_loss: 1.6689\n",
      "Epoch [    2/   20] | d_loss: 0.8961 | g_loss: 4.0546\n",
      "Epoch [    2/   20] | d_loss: 0.8637 | g_loss: 3.8316\n",
      "Epoch [    2/   20] | d_loss: 0.8151 | g_loss: 2.1827\n",
      "Epoch [    2/   20] | d_loss: 0.9433 | g_loss: 1.7645\n",
      "Epoch [    2/   20] | d_loss: 1.2319 | g_loss: 3.6990\n",
      "Epoch [    2/   20] | d_loss: 1.2280 | g_loss: 0.9054\n",
      "Epoch [    2/   20] | d_loss: 0.9075 | g_loss: 3.3468\n",
      "Epoch [    3/   20] | d_loss: 0.8229 | g_loss: 2.5045\n",
      "Epoch [    3/   20] | d_loss: 0.9986 | g_loss: 1.0374\n",
      "Epoch [    3/   20] | d_loss: 0.9627 | g_loss: 1.8932\n",
      "Epoch [    3/   20] | d_loss: 0.9562 | g_loss: 1.6375\n",
      "Epoch [    3/   20] | d_loss: 0.8846 | g_loss: 2.3703\n",
      "Epoch [    3/   20] | d_loss: 0.8399 | g_loss: 1.2764\n",
      "Epoch [    3/   20] | d_loss: 1.1123 | g_loss: 1.1108\n",
      "Epoch [    3/   20] | d_loss: 0.8295 | g_loss: 1.6238\n",
      "Epoch [    3/   20] | d_loss: 0.9377 | g_loss: 1.4666\n",
      "Epoch [    4/   20] | d_loss: 0.7708 | g_loss: 1.4632\n",
      "Epoch [    4/   20] | d_loss: 0.7873 | g_loss: 2.0769\n",
      "Epoch [    4/   20] | d_loss: 0.6915 | g_loss: 2.5239\n",
      "Epoch [    4/   20] | d_loss: 0.9849 | g_loss: 1.8534\n",
      "Epoch [    4/   20] | d_loss: 0.9470 | g_loss: 1.0201\n",
      "Epoch [    4/   20] | d_loss: 0.8574 | g_loss: 1.9210\n",
      "Epoch [    4/   20] | d_loss: 0.8300 | g_loss: 1.9684\n",
      "Epoch [    4/   20] | d_loss: 1.0895 | g_loss: 2.7052\n",
      "Epoch [    4/   20] | d_loss: 0.8967 | g_loss: 2.7722\n",
      "Epoch [    5/   20] | d_loss: 0.9333 | g_loss: 1.4037\n",
      "Epoch [    5/   20] | d_loss: 0.8152 | g_loss: 2.2949\n",
      "Epoch [    5/   20] | d_loss: 0.8060 | g_loss: 2.3561\n",
      "Epoch [    5/   20] | d_loss: 0.7116 | g_loss: 1.5182\n",
      "Epoch [    5/   20] | d_loss: 0.8122 | g_loss: 1.4117\n",
      "Epoch [    5/   20] | d_loss: 0.8341 | g_loss: 1.4217\n",
      "Epoch [    5/   20] | d_loss: 1.0445 | g_loss: 0.9478\n",
      "Epoch [    5/   20] | d_loss: 1.2446 | g_loss: 0.8330\n",
      "Epoch [    5/   20] | d_loss: 0.6745 | g_loss: 2.2239\n",
      "Epoch [    6/   20] | d_loss: 0.8214 | g_loss: 2.4094\n",
      "Epoch [    6/   20] | d_loss: 0.9515 | g_loss: 0.8126\n",
      "Epoch [    6/   20] | d_loss: 1.3371 | g_loss: 1.0306\n",
      "Epoch [    6/   20] | d_loss: 0.7293 | g_loss: 1.3921\n",
      "Epoch [    6/   20] | d_loss: 0.6819 | g_loss: 1.7506\n",
      "Epoch [    6/   20] | d_loss: 0.8865 | g_loss: 1.5487\n",
      "Epoch [    6/   20] | d_loss: 0.9207 | g_loss: 1.6481\n",
      "Epoch [    6/   20] | d_loss: 0.7363 | g_loss: 1.5128\n",
      "Epoch [    6/   20] | d_loss: 0.8514 | g_loss: 1.3163\n",
      "Epoch [    7/   20] | d_loss: 0.9772 | g_loss: 2.9733\n",
      "Epoch [    7/   20] | d_loss: 0.8103 | g_loss: 1.9397\n",
      "Epoch [    7/   20] | d_loss: 0.7938 | g_loss: 1.5347\n",
      "Epoch [    7/   20] | d_loss: 0.7221 | g_loss: 2.6442\n",
      "Epoch [    7/   20] | d_loss: 0.7155 | g_loss: 2.0399\n",
      "Epoch [    7/   20] | d_loss: 0.9749 | g_loss: 3.5535\n",
      "Epoch [    7/   20] | d_loss: 0.9866 | g_loss: 3.6278\n",
      "Epoch [    7/   20] | d_loss: 0.9019 | g_loss: 3.1187\n",
      "Epoch [    7/   20] | d_loss: 0.7516 | g_loss: 1.6227\n",
      "Epoch [    8/   20] | d_loss: 0.7374 | g_loss: 1.7558\n",
      "Epoch [    8/   20] | d_loss: 1.1181 | g_loss: 1.1404\n",
      "Epoch [    8/   20] | d_loss: 0.6498 | g_loss: 1.6699\n",
      "Epoch [    8/   20] | d_loss: 0.6608 | g_loss: 1.7442\n",
      "Epoch [    8/   20] | d_loss: 0.8426 | g_loss: 2.1537\n",
      "Epoch [    8/   20] | d_loss: 0.7876 | g_loss: 1.8434\n",
      "Epoch [    8/   20] | d_loss: 0.8729 | g_loss: 1.3595\n",
      "Epoch [    8/   20] | d_loss: 0.7249 | g_loss: 2.6879\n",
      "Epoch [    8/   20] | d_loss: 1.2069 | g_loss: 0.6937\n",
      "Epoch [    9/   20] | d_loss: 0.9058 | g_loss: 1.6793\n",
      "Epoch [    9/   20] | d_loss: 0.8289 | g_loss: 1.3114\n",
      "Epoch [    9/   20] | d_loss: 0.8619 | g_loss: 1.0928\n",
      "Epoch [    9/   20] | d_loss: 0.7713 | g_loss: 1.6594\n",
      "Epoch [    9/   20] | d_loss: 1.0177 | g_loss: 1.1111\n",
      "Epoch [    9/   20] | d_loss: 0.7690 | g_loss: 2.1008\n",
      "Epoch [    9/   20] | d_loss: 0.6161 | g_loss: 1.9728\n",
      "Epoch [    9/   20] | d_loss: 0.7859 | g_loss: 1.7840\n",
      "Epoch [    9/   20] | d_loss: 1.1805 | g_loss: 1.0788\n",
      "Epoch [   10/   20] | d_loss: 0.6528 | g_loss: 1.8823\n",
      "Epoch [   10/   20] | d_loss: 0.8907 | g_loss: 2.5794\n",
      "Epoch [   10/   20] | d_loss: 0.6843 | g_loss: 2.5948\n",
      "Epoch [   10/   20] | d_loss: 0.7409 | g_loss: 1.8605\n",
      "Epoch [   10/   20] | d_loss: 0.6099 | g_loss: 2.5036\n",
      "Epoch [   10/   20] | d_loss: 0.7493 | g_loss: 1.8297\n",
      "Epoch [   10/   20] | d_loss: 0.9396 | g_loss: 3.7028\n",
      "Epoch [   10/   20] | d_loss: 0.8334 | g_loss: 3.9096\n",
      "Epoch [   10/   20] | d_loss: 0.8266 | g_loss: 1.8306\n",
      "Epoch [   11/   20] | d_loss: 0.7424 | g_loss: 1.8783\n",
      "Epoch [   11/   20] | d_loss: 0.5853 | g_loss: 1.6958\n",
      "Epoch [   11/   20] | d_loss: 0.6310 | g_loss: 2.0673\n",
      "Epoch [   11/   20] | d_loss: 0.6855 | g_loss: 2.8997\n",
      "Epoch [   11/   20] | d_loss: 0.7591 | g_loss: 1.8968\n",
      "Epoch [   11/   20] | d_loss: 0.6833 | g_loss: 1.5686\n",
      "Epoch [   11/   20] | d_loss: 0.9567 | g_loss: 1.7331\n",
      "Epoch [   11/   20] | d_loss: 0.7549 | g_loss: 1.6888\n",
      "Epoch [   11/   20] | d_loss: 0.9498 | g_loss: 3.1693\n",
      "Epoch [   12/   20] | d_loss: 1.2417 | g_loss: 1.0208\n",
      "Epoch [   12/   20] | d_loss: 0.6401 | g_loss: 1.5910\n",
      "Epoch [   12/   20] | d_loss: 0.6579 | g_loss: 1.9987\n",
      "Epoch [   12/   20] | d_loss: 0.5911 | g_loss: 1.3829\n",
      "Epoch [   12/   20] | d_loss: 0.6667 | g_loss: 1.5644\n",
      "Epoch [   12/   20] | d_loss: 1.1017 | g_loss: 0.7502\n",
      "Epoch [   12/   20] | d_loss: 0.6551 | g_loss: 1.7477\n",
      "Epoch [   12/   20] | d_loss: 0.7326 | g_loss: 2.4983\n",
      "Epoch [   12/   20] | d_loss: 0.6386 | g_loss: 2.3136\n",
      "Epoch [   13/   20] | d_loss: 0.5870 | g_loss: 2.3205\n",
      "Epoch [   13/   20] | d_loss: 0.8978 | g_loss: 3.0379\n",
      "Epoch [   13/   20] | d_loss: 0.6453 | g_loss: 1.3323\n",
      "Epoch [   13/   20] | d_loss: 1.1548 | g_loss: 4.9456\n",
      "Epoch [   13/   20] | d_loss: 0.8252 | g_loss: 2.9907\n",
      "Epoch [   13/   20] | d_loss: 0.7408 | g_loss: 2.1220\n",
      "Epoch [   13/   20] | d_loss: 0.5329 | g_loss: 2.8760\n",
      "Epoch [   13/   20] | d_loss: 0.6791 | g_loss: 2.2415\n",
      "Epoch [   13/   20] | d_loss: 0.7462 | g_loss: 2.7191\n",
      "Epoch [   14/   20] | d_loss: 0.6690 | g_loss: 1.9554\n",
      "Epoch [   14/   20] | d_loss: 0.6039 | g_loss: 3.0330\n",
      "Epoch [   14/   20] | d_loss: 1.1174 | g_loss: 1.8700\n",
      "Epoch [   14/   20] | d_loss: 0.6931 | g_loss: 1.8857\n",
      "Epoch [   14/   20] | d_loss: 0.6793 | g_loss: 1.9173\n",
      "Epoch [   14/   20] | d_loss: 0.5321 | g_loss: 1.9398\n",
      "Epoch [   14/   20] | d_loss: 0.9903 | g_loss: 4.0259\n",
      "Epoch [   14/   20] | d_loss: 0.6365 | g_loss: 2.1235\n",
      "Epoch [   14/   20] | d_loss: 0.7078 | g_loss: 3.4953\n",
      "Epoch [   15/   20] | d_loss: 0.6966 | g_loss: 1.1439\n",
      "Epoch [   15/   20] | d_loss: 1.3539 | g_loss: 0.8705\n",
      "Epoch [   15/   20] | d_loss: 0.8070 | g_loss: 1.7171\n",
      "Epoch [   15/   20] | d_loss: 0.6935 | g_loss: 1.8366\n",
      "Epoch [   15/   20] | d_loss: 0.5895 | g_loss: 2.3237\n",
      "Epoch [   15/   20] | d_loss: 0.7263 | g_loss: 2.6275\n",
      "Epoch [   15/   20] | d_loss: 0.5830 | g_loss: 1.8108\n",
      "Epoch [   15/   20] | d_loss: 0.9527 | g_loss: 3.1302\n",
      "Epoch [   15/   20] | d_loss: 0.5782 | g_loss: 1.7646\n",
      "Epoch [   16/   20] | d_loss: 0.8761 | g_loss: 1.8633\n",
      "Epoch [   16/   20] | d_loss: 0.6347 | g_loss: 1.9436\n",
      "Epoch [   16/   20] | d_loss: 0.4758 | g_loss: 3.0803\n",
      "Epoch [   16/   20] | d_loss: 0.6330 | g_loss: 3.5771\n",
      "Epoch [   16/   20] | d_loss: 0.5127 | g_loss: 1.6187\n",
      "Epoch [   16/   20] | d_loss: 0.5420 | g_loss: 3.4097\n",
      "Epoch [   16/   20] | d_loss: 0.9061 | g_loss: 3.2566\n",
      "Epoch [   16/   20] | d_loss: 0.7561 | g_loss: 2.8508\n",
      "Epoch [   16/   20] | d_loss: 0.9440 | g_loss: 2.2911\n",
      "Epoch [   17/   20] | d_loss: 0.6995 | g_loss: 2.8268\n",
      "Epoch [   17/   20] | d_loss: 0.4852 | g_loss: 2.7167\n",
      "Epoch [   17/   20] | d_loss: 0.4694 | g_loss: 1.6957\n",
      "Epoch [   17/   20] | d_loss: 0.6339 | g_loss: 2.7463\n",
      "Epoch [   17/   20] | d_loss: 0.6585 | g_loss: 1.8996\n",
      "Epoch [   17/   20] | d_loss: 0.6185 | g_loss: 1.4351\n",
      "Epoch [   17/   20] | d_loss: 0.8416 | g_loss: 3.2610\n",
      "Epoch [   17/   20] | d_loss: 0.6444 | g_loss: 2.1533\n"
     ]
    },
    {
     "name": "stdout",
     "output_type": "stream",
     "text": [
      "Epoch [   17/   20] | d_loss: 0.5706 | g_loss: 2.5891\n",
      "Epoch [   18/   20] | d_loss: 0.5737 | g_loss: 1.4726\n",
      "Epoch [   18/   20] | d_loss: 0.6899 | g_loss: 1.5831\n",
      "Epoch [   18/   20] | d_loss: 0.6930 | g_loss: 0.9880\n",
      "Epoch [   18/   20] | d_loss: 0.7790 | g_loss: 1.4713\n",
      "Epoch [   18/   20] | d_loss: 0.5064 | g_loss: 2.7492\n",
      "Epoch [   18/   20] | d_loss: 0.3780 | g_loss: 2.2165\n",
      "Epoch [   18/   20] | d_loss: 0.7916 | g_loss: 2.5516\n",
      "Epoch [   18/   20] | d_loss: 0.4335 | g_loss: 2.4752\n",
      "Epoch [   18/   20] | d_loss: 0.5312 | g_loss: 2.5156\n",
      "Epoch [   19/   20] | d_loss: 0.8824 | g_loss: 1.6229\n",
      "Epoch [   19/   20] | d_loss: 0.4028 | g_loss: 2.5130\n",
      "Epoch [   19/   20] | d_loss: 0.6642 | g_loss: 3.7034\n",
      "Epoch [   19/   20] | d_loss: 0.6119 | g_loss: 1.8001\n",
      "Epoch [   19/   20] | d_loss: 1.0664 | g_loss: 0.4323\n",
      "Epoch [   19/   20] | d_loss: 0.5959 | g_loss: 1.8013\n",
      "Epoch [   19/   20] | d_loss: 0.5036 | g_loss: 1.9536\n",
      "Epoch [   19/   20] | d_loss: 0.5245 | g_loss: 2.2329\n",
      "Epoch [   19/   20] | d_loss: 0.3011 | g_loss: 2.4803\n",
      "Epoch [   20/   20] | d_loss: 0.6587 | g_loss: 2.9416\n",
      "Epoch [   20/   20] | d_loss: 0.2687 | g_loss: 2.8081\n",
      "Epoch [   20/   20] | d_loss: 0.5107 | g_loss: 1.4708\n",
      "Epoch [   20/   20] | d_loss: 0.5878 | g_loss: 2.3846\n",
      "Epoch [   20/   20] | d_loss: 0.9431 | g_loss: 3.8361\n",
      "Epoch [   20/   20] | d_loss: 0.5021 | g_loss: 2.0656\n",
      "Epoch [   20/   20] | d_loss: 0.3089 | g_loss: 3.4153\n",
      "Epoch [   20/   20] | d_loss: 0.2908 | g_loss: 3.3776\n",
      "Epoch [   20/   20] | d_loss: 0.3909 | g_loss: 2.2622\n"
     ]
    }
   ],
   "source": [
    "# set number of epochs \n",
    "n_epochs = 20\n",
    "\n",
    "\n",
    "\"\"\"\n",
    "DON'T MODIFY ANYTHING IN THIS CELL\n",
    "\"\"\"\n",
    "# call training function\n",
    "losses = train(D, G, n_epochs=n_epochs)\n",
    "torch.save(G.state_dict(), \"Generator.pt\")\n",
    "torch.save(D.state_dict(), \"discriminator.pt\")"
   ]
  },
  {
   "cell_type": "markdown",
   "metadata": {
    "collapsed": true
   },
   "source": [
    "## Training loss\n",
    "\n",
    "Plot the training losses for the generator and discriminator, recorded after each epoch."
   ]
  },
  {
   "cell_type": "code",
   "execution_count": null,
   "metadata": {},
   "outputs": [],
   "source": [
    "fig, ax = plt.subplots()\n",
    "losses = np.array(losses)\n",
    "plt.plot(losses.T[0], label='Discriminator', alpha=0.5)\n",
    "plt.plot(losses.T[1], label='Generator', alpha=0.5)\n",
    "plt.title(\"Training Losses\")\n",
    "plt.legend()"
   ]
  },
  {
   "cell_type": "markdown",
   "metadata": {
    "collapsed": true
   },
   "source": [
    "## Generator samples from training\n",
    "\n",
    "View samples of images from the generator, and answer a question about the strengths and weaknesses of your trained models."
   ]
  },
  {
   "cell_type": "code",
   "execution_count": 3,
   "metadata": {},
   "outputs": [],
   "source": [
    "# helper function for viewing a list of passed in sample images\n",
    "def view_samples(epoch, samples):\n",
    "    fig, axes = plt.subplots(figsize=(16,4), nrows=2, ncols=8, sharey=True, sharex=True)\n",
    "    for ax, img in zip(axes.flatten(), samples[epoch]):\n",
    "        img = img.detach().cpu().numpy()\n",
    "        img = np.transpose(img, (1, 2, 0))\n",
    "        img = ((img + 1)*255 / (2)).astype(np.uint8)\n",
    "        ax.xaxis.set_visible(False)\n",
    "        ax.yaxis.set_visible(False)\n",
    "        im = ax.imshow(img.reshape((32,32,3)))"
   ]
  },
  {
   "cell_type": "code",
   "execution_count": 4,
   "metadata": {},
   "outputs": [],
   "source": [
    "# Load samples from generator, taken while training\n",
    "with open('train_samples.pkl', 'rb') as f:\n",
    "    samples = pkl.load(f)"
   ]
  },
  {
   "cell_type": "code",
   "execution_count": 5,
   "metadata": {},
   "outputs": [
    {
     "data": {
      "image/png": "[encoded data removed]",
      "text/plain": [
       "<matplotlib.figure.Figure at 0x7f1405120da0>"
      ]
     },
     "metadata": {
      "needs_background": "light"
     },
     "output_type": "display_data"
    }
   ],
   "source": [
    "_ = view_samples(-1, samples)"
   ]
  },
  {
   "cell_type": "markdown",
   "metadata": {},
   "source": [
    "### Question: What do you notice about your generated samples and how might you improve this model?\n",
    "When you answer this question, consider the following factors:\n",
    "* The dataset is biased; it is made of \"celebrity\" faces that are mostly white\n",
    "* Model size; larger models have the opportunity to learn more features in a data feature space\n",
    "* Optimization strategy; optimizers and number of epochs affect your final result\n"
   ]
  },
  {
   "cell_type": "markdown",
   "metadata": {},
   "source": [
    "**Answer:** (Write your answer in this cell)\n",
    "So my model is racicst :p since its dataset is limited to celebrities. Adding more variety would help in better face generation. Try adding more pictures with ,male and female face speration. Adding more layers might help too"
   ]
  },
  {
   "cell_type": "markdown",
   "metadata": {},
   "source": [
    "### Submitting This Project\n",
    "When submitting this project, make sure to run all the cells before saving the notebook. Save the notebook file as \"dlnd_face_generation.ipynb\" and save it as a HTML file under \"File\" -> \"Download as\". Include the \"problem_unittests.py\" files in your submission."
   ]
  }
 ],
 "metadata": {
  "kernelspec": {
   "display_name": "Python 3",
   "language": "python",
   "name": "python3"
  },
  "language_info": {
   "codemirror_mode": {
    "name": "ipython",
    "version": 3
   },
   "file_extension": ".py",
   "mimetype": "text/x-python",
   "name": "python",
   "nbconvert_exporter": "python",
   "pygments_lexer": "ipython3",
   "version": "3.6.3"
  }
 },
 "nbformat": 4,
 "nbformat_minor": 1
}
